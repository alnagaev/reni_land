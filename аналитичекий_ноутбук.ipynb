{
 "cells": [
  {
   "cell_type": "markdown",
   "metadata": {},
   "source": [
    "###  описательный анализ данных и"
   ]
  },
  {
   "cell_type": "code",
   "execution_count": 116,
   "metadata": {},
   "outputs": [],
   "source": [
    "import pandas as pd\n",
    "df = pd.read_csv('https://raw.githubusercontent.com/alnagaev/reni_land/master/data.csv')"
   ]
  },
  {
   "cell_type": "code",
   "execution_count": 96,
   "metadata": {},
   "outputs": [],
   "source": [
    "cors = pd.read_csv('https://raw.githubusercontent.com/alnagaev/reni_land/master/geo.csv', header = None, names = ['cors'])"
   ]
  },
  {
   "cell_type": "code",
   "execution_count": 97,
   "metadata": {},
   "outputs": [],
   "source": [
    "new = cors[\"cors\"].str.split(\" \", n = 1, expand = True) \n",
    "cors['lat'] = new[0].astype('float')\n",
    "cors['lng'] = new[1].astype('float')\n",
    "\n"
   ]
  },
  {
   "cell_type": "code",
   "execution_count": 114,
   "metadata": {},
   "outputs": [],
   "source": [
    "inn = df['inn'].tolist()\n",
    "lat = cors['lat'].tolist()\n",
    "lon = cors['lng'].tolist()\n",
    "status = df['egrulStatus'].tolist()\n",
    "\n",
    "\n",
    "def color_change(status):\n",
    "    if(status == 'Ликвидирована'):\n",
    "        return('red')   \n",
    "    return('green')"
   ]
  },
  {
   "cell_type": "code",
   "execution_count": 115,
   "metadata": {},
   "outputs": [],
   "source": [
    "#popup=folium.Popup(name, parse_html=True)\n",
    "\n",
    "saratov_map = folium.Map(location=[51.32, 46.00], zoom_start=6)\n",
    "\n",
    "for lat, lon, inn, status in zip(lat, lon, inn, status):\n",
    "    folium.CircleMarker(location=[lat, lon], popup = str(inn).replace('.0', ''), radius = 9, fill_color=color_change(status)).add_to(saratov_map)\n",
    "\n",
    "saratov_map.save(\"map1.html\")"
   ]
  },
  {
   "cell_type": "code",
   "execution_count": 104,
   "metadata": {},
   "outputs": [
    {
     "data": {
      "text/plain": [
       "0       6451999844.000\n",
       "1       6454999190.000\n",
       "2       6450999841.000\n",
       "3       6450999810.000\n",
       "4       6439999975.000\n",
       "             ...      \n",
       "12980   6451901915.000\n",
       "12981   6451901263.000\n",
       "12982   6451901249.000\n",
       "12983   6453035130.000\n",
       "12984   6453034947.000\n",
       "Name: inn, Length: 12985, dtype: float64"
      ]
     },
     "execution_count": 104,
     "metadata": {},
     "output_type": "execute_result"
    }
   ],
   "source": [
    "pd.set_option('display.float_format', lambda x: '%.3f' % x)\n"
   ]
  },
  {
   "cell_type": "code",
   "execution_count": 4,
   "metadata": {},
   "outputs": [],
   "source": [
    "df['dateOgrn'] = pd.to_datetime(df['dateOgrn'])\n",
    "\n"
   ]
  },
  {
   "cell_type": "code",
   "execution_count": 39,
   "metadata": {},
   "outputs": [
    {
     "data": {
      "text/plain": [
       "Ликвидирована    6827\n",
       "Действует        6158\n",
       "Name: egrulStatus, dtype: int64"
      ]
     },
     "execution_count": 39,
     "metadata": {},
     "output_type": "execute_result"
    }
   ],
   "source": [
    "df.egrulStatus.value_counts()"
   ]
  },
  {
   "cell_type": "code",
   "execution_count": 57,
   "metadata": {},
   "outputs": [
    {
     "data": {
      "text/plain": [
       "Исключена           4160\n",
       "Зарегистрирована    2229\n",
       "Name: minjustStatus, dtype: int64"
      ]
     },
     "execution_count": 57,
     "metadata": {},
     "output_type": "execute_result"
    }
   ],
   "source": [
    "df['minjustStatus'].value_counts()"
   ]
  },
  {
   "cell_type": "code",
   "execution_count": 56,
   "metadata": {
    "scrolled": true
   },
   "outputs": [
    {
     "data": {
      "text/plain": [
       "Ликвидирована    6827\n",
       "Действует        6158\n",
       "Name: egrulStatus, dtype: int64"
      ]
     },
     "execution_count": 56,
     "metadata": {},
     "output_type": "execute_result"
    }
   ],
   "source": [
    "df['egrulStatus'].value_counts()"
   ]
  },
  {
   "cell_type": "code",
   "execution_count": 61,
   "metadata": {},
   "outputs": [
    {
     "data": {
      "text/plain": [
       "count         423.000\n",
       "mean      8107314.271\n",
       "std      43199783.310\n",
       "min          3875.640\n",
       "25%        249834.000\n",
       "50%        918815.000\n",
       "75%       3463507.590\n",
       "max     588473985.390\n",
       "Name: incomeTotal, dtype: float64"
      ]
     },
     "execution_count": 61,
     "metadata": {},
     "output_type": "execute_result"
    }
   ],
   "source": [
    "pd.set_option('display.float_format', lambda x: '%.3f' % x)\n",
    "df[df['incomeTotal'] > 0].describe()['incomeTotal']"
   ]
  },
  {
   "cell_type": "code",
   "execution_count": 63,
   "metadata": {},
   "outputs": [
    {
     "data": {
      "text/html": [
       "<div>\n",
       "<style scoped>\n",
       "    .dataframe tbody tr th:only-of-type {\n",
       "        vertical-align: middle;\n",
       "    }\n",
       "\n",
       "    .dataframe tbody tr th {\n",
       "        vertical-align: top;\n",
       "    }\n",
       "\n",
       "    .dataframe thead th {\n",
       "        text-align: right;\n",
       "    }\n",
       "</style>\n",
       "<table border=\"1\" class=\"dataframe\">\n",
       "  <thead>\n",
       "    <tr style=\"text-align: right;\">\n",
       "      <th></th>\n",
       "      <th>Unnamed: 0</th>\n",
       "      <th>address</th>\n",
       "      <th>dateOgrn</th>\n",
       "      <th>egrulStatus</th>\n",
       "      <th>fullName</th>\n",
       "      <th>hasRegionalSupport</th>\n",
       "      <th>incomeRank</th>\n",
       "      <th>incomeTotal</th>\n",
       "      <th>inn</th>\n",
       "      <th>kpp</th>\n",
       "      <th>minjustForm</th>\n",
       "      <th>minjustStatus</th>\n",
       "      <th>year</th>\n",
       "    </tr>\n",
       "  </thead>\n",
       "  <tbody>\n",
       "    <tr>\n",
       "      <td>5261</td>\n",
       "      <td>262542</td>\n",
       "      <td>410004, ОБЛАСТЬ САРАТОВСКАЯ, ГОРОД САРАТОВ, ПР...</td>\n",
       "      <td>2004-08-02</td>\n",
       "      <td>Действует</td>\n",
       "      <td>ЧАСТНОЕ УЧРЕЖДЕНИЕ ЗДРАВООХРАНЕНИЯ \"КЛИНИЧЕСКА...</td>\n",
       "      <td>False</td>\n",
       "      <td>Высокий</td>\n",
       "      <td>588473985.390</td>\n",
       "      <td>6454070024.000</td>\n",
       "      <td>645401001.000</td>\n",
       "      <td>Учреждение</td>\n",
       "      <td>Зарегистрирована</td>\n",
       "      <td>2004</td>\n",
       "    </tr>\n",
       "  </tbody>\n",
       "</table>\n",
       "</div>"
      ],
      "text/plain": [
       "      Unnamed: 0                                            address  \\\n",
       "5261      262542  410004, ОБЛАСТЬ САРАТОВСКАЯ, ГОРОД САРАТОВ, ПР...   \n",
       "\n",
       "       dateOgrn egrulStatus  \\\n",
       "5261 2004-08-02   Действует   \n",
       "\n",
       "                                               fullName  hasRegionalSupport  \\\n",
       "5261  ЧАСТНОЕ УЧРЕЖДЕНИЕ ЗДРАВООХРАНЕНИЯ \"КЛИНИЧЕСКА...               False   \n",
       "\n",
       "     incomeRank   incomeTotal            inn           kpp minjustForm  \\\n",
       "5261    Высокий 588473985.390 6454070024.000 645401001.000  Учреждение   \n",
       "\n",
       "         minjustStatus  year  \n",
       "5261  Зарегистрирована  2004  "
      ]
     },
     "execution_count": 63,
     "metadata": {},
     "output_type": "execute_result"
    }
   ],
   "source": [
    "df[df['incomeTotal'] > 588473985]"
   ]
  },
  {
   "cell_type": "code",
   "execution_count": 89,
   "metadata": {},
   "outputs": [
    {
     "data": {
      "text/plain": [
       "0        6.452000e+09\n",
       "1        6.454999e+09\n",
       "2        6.451000e+09\n",
       "3        6.451000e+09\n",
       "4        6.440000e+09\n",
       "             ...     \n",
       "12980    6.451902e+09\n",
       "12981    6.451901e+09\n",
       "12982    6.451901e+09\n",
       "12983    6.453035e+09\n",
       "12984    6.453035e+09\n",
       "Name: inn, Length: 12985, dtype: float64"
      ]
     },
     "execution_count": 89,
     "metadata": {},
     "output_type": "execute_result"
    }
   ],
   "source": [
    "df['inn']"
   ]
  },
  {
   "cell_type": "code",
   "execution_count": 48,
   "metadata": {},
   "outputs": [],
   "source": [
    "new = df[df['year'] != 2002] #2002 не считаем т.к все зарегались в этот год"
   ]
  },
  {
   "cell_type": "code",
   "execution_count": 54,
   "metadata": {},
   "outputs": [
    {
     "data": {
      "text/plain": [
       "<matplotlib.axes._subplots.AxesSubplot at 0x7f055e6b4e10>"
      ]
     },
     "execution_count": 54,
     "metadata": {},
     "output_type": "execute_result"
    },
    {
     "data": {
      "image/png": "[encoded data removed]",
      "text/plain": [
       "<Figure size 720x720 with 1 Axes>"
      ]
     },
     "metadata": {
      "needs_background": "light"
     },
     "output_type": "display_data"
    }
   ],
   "source": [
    "new.groupby(['year']).count()['address'].plot(kind='bar', figsize = (10, 10))"
   ]
  },
  {
   "cell_type": "code",
   "execution_count": 29,
   "metadata": {},
   "outputs": [
    {
     "data": {
      "text/plain": [
       "(51.481492458797305, 45.913265908650494)"
      ]
     },
     "execution_count": 29,
     "metadata": {},
     "output_type": "execute_result"
    }
   ],
   "source": [
    "\n"
   ]
  },
  {
   "cell_type": "code",
   "execution_count": 8,
   "metadata": {},
   "outputs": [
    {
     "name": "stdout",
     "output_type": "stream",
     "text": [
      "stage 5000 complete\n",
      "stage 6000 complete\n"
     ]
    }
   ],
   "source": [
    "#Хочется получить геоданные, но вряд ли успею. Тут многопоточность бы пригодилась, но вероятнее всего забанят по айпи\n",
    "from time import sleep\n",
    "import geocoder\n",
    "import csv \n",
    "coord = []\n",
    "counter = 0\n",
    "with open('test_nan.csv', 'w', newline='') as csvfile:\n",
    "    spamwriter = csv.writer(csvfile, delimiter=' ',\n",
    "                    quotechar='|', quoting=csv.QUOTE_MINIMAL)\n",
    "    for i in range(12625, len(df['address'])): \n",
    "        if i%1000 == 0:\n",
    "            print('stage {} complete'.format(i))\n",
    "        try:\n",
    "            g = geocoder.arcgis(df['address'].iloc[i])\n",
    "            obj = [g.json['lat'], g.json['lng']]\n",
    "            spamwriter.writerow(obj)\n",
    "        except:\n",
    "            spamwriter.writerow(('None', 'None'))#     sleep(1)    \n",
    "             \n",
    "        \n"
   ]
  },
  {
   "cell_type": "code",
   "execution_count": 53,
   "metadata": {},
   "outputs": [
    {
     "data": {
      "text/plain": [
       "[51.530755096860766, 46.035511070517494]"
      ]
     },
     "execution_count": 53,
     "metadata": {},
     "output_type": "execute_result"
    }
   ],
   "source": [
    "import geocoder\n",
    "g = geocoder.arcgis(df['address'].iloc[8167])\n",
    "obj = [g.json['lat'], g.json['lng']]\n",
    "obj"
   ]
  }
 ],
 "metadata": {
  "kernelspec": {
   "display_name": "Python 3",
   "language": "python",
   "name": "python3"
  },
  "language_info": {
   "codemirror_mode": {
    "name": "ipython",
    "version": 3
   },
   "file_extension": ".py",
   "mimetype": "text/x-python",
   "name": "python",
   "nbconvert_exporter": "python",
   "pygments_lexer": "ipython3",
   "version": "3.7.4"
  }
 },
 "nbformat": 4,
 "nbformat_minor": 2
}
